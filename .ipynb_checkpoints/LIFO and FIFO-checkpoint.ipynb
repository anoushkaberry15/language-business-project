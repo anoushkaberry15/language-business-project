{
 "cells": [
  {
   "cell_type": "markdown",
   "id": "176185ea",
   "metadata": {},
   "source": [
    "## Language of Business\n",
    "### LIFO AND FIFO\n",
    "\n"
   ]
  },
  {
   "cell_type": "code",
   "execution_count": 9,
   "id": "fe452b61",
   "metadata": {},
   "outputs": [],
   "source": [
    "class Inventory:\n",
    "    def __init__(self):\n",
    "        self.items = []\n",
    "    \n",
    "    def add_item(self, item_name, units, cost):\n",
    "        self.items.append({\"item_name\": item_name, \"units\": units, \"cost\": cost})\n",
    "    \n",
    "    def sell_item(self, method, units):\n",
    "        total_cost= 0\n",
    "        sold_items = []\n",
    "        remaining_units = units\n",
    "        \n",
    "        if not self.items:\n",
    "            print(\"Inventory is empty\")\n",
    "            return\n",
    "        while remaining_units > 0:\n",
    "            #choosing which method to go through\n",
    "            if method == 'FIFO':\n",
    "                current_item = self.items.pop(0)\n",
    "            elif method == 'LIFO':\n",
    "                current_item = self.items.pop()\n",
    "            else:\n",
    "                print(\"Invalid inventory method.\")\n",
    "                \n",
    "            #Making sure we do not exceed our existing units \n",
    "            sold_quantity = min(current_item['units'], remaining_units)\n",
    "            remaining_quantity = current_item['units'] - sold_quantity\n",
    "\n",
    "            # Updating the quantity of the sold item\n",
    "            current_item['units'] = remaining_quantity\n",
    "\n",
    "            # Append the sold item to the list\n",
    "            sold_items.append({\"item_name\": current_item['item_name'], \n",
    "                               \"units\": sold_quantity, \"cost\": current_item['cost']})\n",
    "\n",
    "            # Update the remaining units to sell\n",
    "            remaining_units -= sold_quantity\n",
    "\n",
    "            # If there are remaining units of the item, add it back to the inventory\n",
    "            if remaining_quantity > 0:\n",
    "                self.items.append(current_item)\n",
    "\n",
    "        total_cost = sum(item[\"cost\"] * item[\"units\"] for item in sold_items)\n",
    "        print(f\"Total cost through {method} comes to €{total_cost}\")\n",
    "\n",
    "    def display(self):\n",
    "        if len(self.items) == 0:\n",
    "            print(\"Inventory is empty\")\n",
    "        else:\n",
    "            print(\"Current Inventory:\")\n",
    "            for item in self.items:\n",
    "                print(f\"{item['item_name']}: {item['units']} units: €{item['cost']}\")"
   ]
  },
  {
   "cell_type": "code",
   "execution_count": 16,
   "id": "74925d2d",
   "metadata": {},
   "outputs": [
    {
     "name": "stdout",
     "output_type": "stream",
     "text": [
      "Current Inventory:\n",
      "Car: 5 units: €10\n",
      "Bus: 1 units: €15\n",
      "Truck: 5 units: €20\n"
     ]
    }
   ],
   "source": [
    "sample_inv = Inventory()\n",
    "sample_inv.add_item(\"Car\", 5, 10)\n",
    "sample_inv.add_item(\"Bus\", 1, 15)\n",
    "sample_inv.add_item(\"Truck\", 5,20)\n",
    "sample_inv.display()"
   ]
  },
  {
   "cell_type": "code",
   "execution_count": 17,
   "id": "e5d5c262",
   "metadata": {
    "scrolled": true
   },
   "outputs": [
    {
     "name": "stdout",
     "output_type": "stream",
     "text": [
      "Total cost through LIFO comes to €100\n"
     ]
    }
   ],
   "source": [
    "sample_inv.sell_item('LIFO', 5)"
   ]
  },
  {
   "cell_type": "code",
   "execution_count": 18,
   "id": "27a94c08",
   "metadata": {},
   "outputs": [
    {
     "name": "stdout",
     "output_type": "stream",
     "text": [
      "Current Inventory:\n",
      "Car: 5 units: €10\n",
      "Bus: 1 units: €15\n"
     ]
    }
   ],
   "source": [
    "sample_inv.display()"
   ]
  },
  {
   "cell_type": "code",
   "execution_count": 104,
   "id": "e52c54e9",
   "metadata": {
    "scrolled": true
   },
   "outputs": [
    {
     "data": {
      "text/plain": [
       "40"
      ]
     },
     "execution_count": 104,
     "metadata": {},
     "output_type": "execute_result"
    }
   ],
   "source": [
    "sample_inv.sell_item('FIFO', 4)"
   ]
  }
 ],
 "metadata": {
  "kernelspec": {
   "display_name": "Python 3 (ipykernel)",
   "language": "python",
   "name": "python3"
  },
  "language_info": {
   "codemirror_mode": {
    "name": "ipython",
    "version": 3
   },
   "file_extension": ".py",
   "mimetype": "text/x-python",
   "name": "python",
   "nbconvert_exporter": "python",
   "pygments_lexer": "ipython3",
   "version": "3.11.5"
  }
 },
 "nbformat": 4,
 "nbformat_minor": 5
}
