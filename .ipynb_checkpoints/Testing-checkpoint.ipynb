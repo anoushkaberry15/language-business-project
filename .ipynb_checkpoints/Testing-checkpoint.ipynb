{
 "cells": [
  {
   "cell_type": "markdown",
   "id": "176185ea",
   "metadata": {},
   "source": [
    "LIFO/FIFO using chat gpt "
   ]
  },
  {
   "cell_type": "code",
   "execution_count": 1,
   "id": "e7aa3a3a",
   "metadata": {},
   "outputs": [
    {
     "name": "stdout",
     "output_type": "stream",
     "text": [
      "LIFO Queue:\n",
      "3\n",
      "2\n",
      "1\n"
     ]
    }
   ],
   "source": [
    "# LIFO\n",
    "from collections import deque\n",
    "\n",
    "class LifoQueue:\n",
    "    def __init__(self):\n",
    "        self.items = deque()\n",
    "\n",
    "    def push(self, item):\n",
    "        self.items.append(item)\n",
    "\n",
    "    def pop(self):\n",
    "        if not self.is_empty():\n",
    "            return self.items.pop()\n",
    "        else:\n",
    "            print(\"LifoQueue is empty\")\n",
    "\n",
    "    def is_empty(self):\n",
    "        return len(self.items) == 0\n",
    "\n",
    "# Example usage:\n",
    "lifo_queue = LifoQueue()\n",
    "lifo_queue.push(1)\n",
    "lifo_queue.push(2)\n",
    "lifo_queue.push(3)\n",
    "\n",
    "print(\"LIFO Queue:\")\n",
    "while not lifo_queue.is_empty():\n",
    "    print(lifo_queue.pop())"
   ]
  },
  {
   "cell_type": "code",
   "execution_count": null,
   "id": "84e04729",
   "metadata": {},
   "outputs": [],
   "source": [
    "#FIFO \n",
    "class FifoQueue:\n",
    "    def __init__(self):\n",
    "        self.items = []\n",
    "\n",
    "    def enqueue(self, item):\n",
    "        self.items.append(item)\n",
    "\n",
    "    def dequeue(self):\n",
    "        if not self.is_empty():\n",
    "            return self.items.pop(0)\n",
    "        else:\n",
    "            print(\"FifoQueue is empty\")\n",
    "\n",
    "    def is_empty(self):\n",
    "        return len(self.items) == 0\n",
    "\n",
    "# Example usage:\n",
    "fifo_queue = FifoQueue()\n",
    "fifo_queue.enqueue(1)\n",
    "fifo_queue.enqueue(2)\n",
    "fifo_queue.enqueue(3)\n",
    "\n",
    "print(\"FIFO Queue:\")\n",
    "while not fifo_queue.is_empty():\n",
    "    print(fifo_queue.dequeue())"
   ]
  }
 ],
 "metadata": {
  "kernelspec": {
   "display_name": "Python 3 (ipykernel)",
   "language": "python",
   "name": "python3"
  },
  "language_info": {
   "codemirror_mode": {
    "name": "ipython",
    "version": 3
   },
   "file_extension": ".py",
   "mimetype": "text/x-python",
   "name": "python",
   "nbconvert_exporter": "python",
   "pygments_lexer": "ipython3",
   "version": "3.11.5"
  }
 },
 "nbformat": 4,
 "nbformat_minor": 5
}
